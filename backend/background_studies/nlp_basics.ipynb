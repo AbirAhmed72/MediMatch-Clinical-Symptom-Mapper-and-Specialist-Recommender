{
 "cells": [
  {
   "cell_type": "markdown",
   "metadata": {},
   "source": [
    "## Stemming and Lemmatization\n",
    "* Stemming means removing the suffixes from words to get the base word (lemma)\n",
    "* Lemmatization means deriving the base word by using the specific language knowledge. \n",
    "* NLTK -> Both Stemming and Lemmatization\n",
    "* SpaCy -> Only Lemmatization"
   ]
  },
  {
   "cell_type": "code",
   "execution_count": 1,
   "metadata": {},
   "outputs": [],
   "source": [
    "import nltk\n",
    "import spacy\n",
    "words = \"\"\"On discussion with him you establish that he has recently been experiencing back pain which prevents him from getting about as much as he used to\"\"\""
   ]
  },
  {
   "cell_type": "code",
   "execution_count": 2,
   "metadata": {},
   "outputs": [
    {
     "name": "stdout",
     "output_type": "stream",
     "text": [
      "On  |  on\n",
      "discussion  |  discuss\n",
      "with  |  with\n",
      "him  |  him\n",
      "you  |  you\n",
      "establish  |  establish\n",
      "that  |  that\n",
      "he  |  he\n",
      "has  |  ha\n",
      "recently  |  recent\n",
      "been  |  been\n",
      "experiencing  |  experienc\n",
      "back  |  back\n",
      "pain  |  pain\n",
      "which  |  which\n",
      "prevents  |  prevent\n",
      "him  |  him\n",
      "from  |  from\n",
      "getting  |  get\n",
      "about  |  about\n",
      "as  |  as\n",
      "much  |  much\n",
      "as  |  as\n",
      "he  |  he\n",
      "used  |  use\n",
      "to  |  to\n"
     ]
    }
   ],
   "source": [
    "# Stemming (rule based approach)\n",
    "from nltk.stem import PorterStemmer \n",
    "\n",
    "stemmer = PorterStemmer()\n",
    "for word in words.split(' '):\n",
    "    print(word, \" | \", stemmer.stem(word))"
   ]
  },
  {
   "cell_type": "code",
   "execution_count": 3,
   "metadata": {},
   "outputs": [
    {
     "name": "stdout",
     "output_type": "stream",
     "text": [
      "On  |  on\n",
      "discussion  |  discussion\n",
      "with  |  with\n",
      "him  |  he\n",
      "you  |  you\n",
      "establish  |  establish\n",
      "that  |  that\n",
      "he  |  he\n",
      "has  |  have\n",
      "recently  |  recently\n",
      "been  |  be\n",
      "experiencing  |  experience\n",
      "back  |  back\n",
      "pain  |  pain\n",
      "which  |  which\n",
      "prevents  |  prevent\n",
      "him  |  he\n",
      "from  |  from\n",
      "getting  |  get\n",
      "about  |  about\n",
      "as  |  as\n",
      "much  |  much\n",
      "as  |  as\n",
      "he  |  he\n",
      "used  |  use\n",
      "to  |  to\n"
     ]
    }
   ],
   "source": [
    "# lemmatization \n",
    "nlp = spacy.load('en_core_web_sm')      #! we have to choose the model based on the type of lemmatization we need\n",
    "\n",
    "doc = nlp(words);\n",
    "\n",
    "for token in doc:\n",
    "    print(token, \" | \", token.lemma_)"
   ]
  },
  {
   "cell_type": "code",
   "execution_count": 4,
   "metadata": {},
   "outputs": [
    {
     "name": "stdout",
     "output_type": "stream",
     "text": [
      "discussion, Stem: < discuss > ,Lemma: < discussion >\n",
      "him, Stem: < him > ,Lemma: < he >\n",
      "has, Stem: < ha > ,Lemma: < have >\n",
      "recently, Stem: < recent > ,Lemma: < recently >\n",
      "been, Stem: < been > ,Lemma: < be >\n",
      "experiencing, Stem: < experienc > ,Lemma: < experience >\n",
      "him, Stem: < him > ,Lemma: < he >\n"
     ]
    }
   ],
   "source": [
    "# side by side comparision\n",
    "\n",
    "for token in doc:\n",
    "    stem = stemmer.stem(token.text)\n",
    "    lemma = token.lemma_\n",
    "    if stem != lemma:\n",
    "        print(token.text+ \", Stem: <\", stemmer.stem(token.text), \"> ,Lemma: <\", token.lemma_, \">\")"
   ]
  },
  {
   "cell_type": "markdown",
   "metadata": {},
   "source": [
    "### Custom Lemmatization rules"
   ]
  },
  {
   "cell_type": "code",
   "execution_count": 5,
   "metadata": {},
   "outputs": [
    {
     "name": "stdout",
     "output_type": "stream",
     "text": [
      "hello  |  hello\n",
      "bro  |  brother\n",
      ",  |  ,\n",
      "what  |  what\n",
      "s  |  s\n",
      "up  |  up\n",
      ".  |  .\n",
      "What  |  what\n",
      "are  |  be\n",
      "you  |  you\n",
      "doing  |  do\n",
      "bruh  |  brother\n",
      "!  |  !\n",
      "!  |  !\n"
     ]
    }
   ],
   "source": [
    "# custom rules >>>\n",
    "ar = nlp.get_pipe('attribute_ruler')\n",
    "ar.add([[{\"TEXT\":\"bro\"}], [{\"TEXT\":\"bruh\"}]], {\"LEMMA\": \"brother\"})\n",
    "# custom rules <<<\n",
    "\n",
    "doc2 = nlp(\"hello bro, whats up. What are you doing bruh!!\")\n",
    "for token in doc2:\n",
    "    print(token.text, \" | \", token.lemma_)"
   ]
  },
  {
   "cell_type": "markdown",
   "metadata": {},
   "source": []
  }
 ],
 "metadata": {
  "kernelspec": {
   "display_name": "Python 3",
   "language": "python",
   "name": "python3"
  },
  "language_info": {
   "codemirror_mode": {
    "name": "ipython",
    "version": 3
   },
   "file_extension": ".py",
   "mimetype": "text/x-python",
   "name": "python",
   "nbconvert_exporter": "python",
   "pygments_lexer": "ipython3",
   "version": "3.10.12"
  }
 },
 "nbformat": 4,
 "nbformat_minor": 2
}
