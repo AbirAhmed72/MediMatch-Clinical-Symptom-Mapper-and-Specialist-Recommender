{
 "cells": [
  {
   "cell_type": "code",
   "execution_count": 1,
   "metadata": {},
   "outputs": [
    {
     "data": {
      "text/plain": [
       "\"HISTORY OF PRESENT ILLNESS: ,I have seen ABC today for her preoperative visit for weight management.  I have explained to her the need for Optifast for weight loss prior to these procedures to make it safer because of the large size of her liver.  She understands this.,IMPRESSION/PLAN:, We are going to put her on two weeks of Optifast at around 900 calories.  I have also explained the risks and potential complications of laparoscopic cholecystectomy to her in detail including bleeding, infection, deep venous thrombosis, pulmonary embolism, injury to the small intestine, stomach, liver, leak from the cystic duct, common bile duct, and possible need for ERCP and further surgery.  This surgery is going to be planned for October 6.  This is for cholelithiasis prior to her Lap-Banding procedure.,I have also reviewed with her the risks and potential complications of laparoscopic gastric banding including bleeding, infection, deep venous thrombosis, pulmonary embolism, slippage of the band, erosion of the band, injury to the esophagus, stomach, small intestine, large intestine, spleen, liver, injury to the band, port, or tubing necessitating replacement of the band, port, or tubing among other potential complications and she understands.  We are going to proceed for laparoscopic gastric banding.  I have reviewed her entire chart in detail.  I have also gone over with her the Fairfield County Bariatrics consent form for banding and all the risks.  She has also signed the St. Vincent's Hospital consent form for Lap-Banding.  She has taken the preoperative quiz for banding.  She has signed the preop and postop instructions, and understands them and we reviewed them.  She has taken the quiz and done fairly well.  We have reviewed with her any potential other issues and I have answered her questions.  She is planned for surgical intervention.,\""
      ]
     },
     "execution_count": 1,
     "metadata": {},
     "output_type": "execute_result"
    }
   ],
   "source": [
    "import pandas as pd\n",
    "data = pd.read_csv('../datasets/mtsamples.csv')\n",
    "data.head()\n",
    "data['transcription'][15]"
   ]
  },
  {
   "cell_type": "markdown",
   "metadata": {},
   "source": [
    "## keywords listing"
   ]
  },
  {
   "cell_type": "code",
   "execution_count": 2,
   "metadata": {},
   "outputs": [
    {
     "name": "stdout",
     "output_type": "stream",
     "text": [
      "0       allergy / immunology, allergic rhinitis, aller...\n",
      "1       bariatrics, laparoscopic gastric bypass, weigh...\n",
      "2       bariatrics, laparoscopic gastric bypass, heart...\n",
      "3       cardiovascular / pulmonary, 2-d m-mode, dopple...\n",
      "4       cardiovascular / pulmonary, 2-d, doppler, echo...\n",
      "                              ...                        \n",
      "4994                                                  NaN\n",
      "4995    allergy / immunology, mucous membranes, conjun...\n",
      "4996                                                  NaN\n",
      "4997                                                  NaN\n",
      "4998                                                  NaN\n",
      "Name: keywords, Length: 4999, dtype: object\n"
     ]
    }
   ],
   "source": [
    "keywords = data['keywords']\n",
    "print(keywords)\n",
    "\n",
    "#! we have bunch of nan values, that may hamper our model prediction"
   ]
  },
  {
   "cell_type": "code",
   "execution_count": 3,
   "metadata": {},
   "outputs": [
    {
     "name": "stdout",
     "output_type": "stream",
     "text": [
      "['allergy / immunology' 'allergic rhinitis' 'allergies' ... nan nan nan]\n"
     ]
    }
   ],
   "source": [
    "# Split the strings in the 'keywords' column by comma and whitespace             \n",
    "keywords_list = keywords.str.split(', ').explode()\n",
    "\n",
    "# Convert the resulting Series to a 1D array\n",
    "keywords_array = keywords_list.to_numpy()\n",
    "\n",
    "# Now, keywords_array is a 1D NumPy array containing all the symptoms\n",
    "print(keywords_array)"
   ]
  },
  {
   "cell_type": "markdown",
   "metadata": {},
   "source": [
    "## Identify Symptoms"
   ]
  },
  {
   "cell_type": "markdown",
   "metadata": {},
   "source": [
    "### This technique is quite simple\n",
    "### We have just extract the Nouns and Pronouns. Then match those with existing datasets Keyword array."
   ]
  },
  {
   "cell_type": "code",
   "execution_count": 4,
   "metadata": {},
   "outputs": [
    {
     "name": "stdout",
     "output_type": "stream",
     "text": [
      "['a persistent headache', 'a high fever', 'night', 'My throat', 'a lot', 'my appetite', 'addition', 'some nausea', 'occasional vomiting', 'my daily activities', 'all these symptoms']\n"
     ]
    }
   ],
   "source": [
    "import spacy\n",
    "\n",
    "# Load the spaCy model\n",
    "nlp = spacy.load(\"en_core_web_sm\")\n",
    "\n",
    "# Define a function to extract symptoms from a patient description\n",
    "def entity_extraction(patient_description):\n",
    "    \n",
    "  \"\"\"Extracts symptoms from a patient description using spaCy.\"\"\"\n",
    "\n",
    "  # Create a spaCy document from the patient description\n",
    "  doc = nlp(patient_description)\n",
    "      \n",
    "  noun_phrases = [chunk for chunk in doc.noun_chunks if chunk.root.pos_ in [\"NOUN\", \"PROPN\"]]              \n",
    "\n",
    "  # Extract the noun phrase text\n",
    "  symptoms = [chunk.text for chunk in noun_phrases]\n",
    "\n",
    "  # Return the list of symptoms\n",
    "  return symptoms\n",
    "\n",
    "# Example patient description\n",
    "patient_description = \"\"\"\n",
    "I've been feeling really unwell lately. It started a few days ago with a persistent headache that just won't go away. I've also noticed a high fever, which has been keeping me up at night. My throat feels sore, and I've been coughing a lot. I've lost my appetite, and I feel weak and fatigued all the time. In addition to all of this, I've been experiencing some nausea and occasional vomiting. It's been quite challenging to focus or go about my daily activities with all these symptoms.\n",
    "\"\"\"\n",
    "\n",
    "# for row in data['transcription']:\n",
    "#   print(row)\n",
    "#   print (\"=====\")\n",
    "\n",
    "# Extract symptoms from the patient description\n",
    "symptoms = entity_extraction(patient_description)\n",
    "\n",
    "# Print the extracted symptoms\n",
    "print(symptoms)"
   ]
  },
  {
   "cell_type": "code",
   "execution_count": 5,
   "metadata": {},
   "outputs": [
    {
     "name": "stdout",
     "output_type": "stream",
     "text": [
      "[]\n"
     ]
    }
   ],
   "source": [
    "symptoms_arr = [str(keyword) for keyword in keywords_array if isinstance(keyword, str)]\n",
    "pruned_array = [item for item in symptoms if item in symptoms_arr]\n",
    "print(pruned_array)"
   ]
  }
 ],
 "metadata": {
  "kernelspec": {
   "display_name": "Python 3",
   "language": "python",
   "name": "python3"
  },
  "language_info": {
   "codemirror_mode": {
    "name": "ipython",
    "version": 3
   },
   "file_extension": ".py",
   "mimetype": "text/x-python",
   "name": "python",
   "nbconvert_exporter": "python",
   "pygments_lexer": "ipython3",
   "version": "3.10.12"
  }
 },
 "nbformat": 4,
 "nbformat_minor": 2
}
