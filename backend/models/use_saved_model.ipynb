{
 "cells": [
  {
   "cell_type": "code",
   "execution_count": 3,
   "metadata": {},
   "outputs": [],
   "source": [
    "from transformers import AutoModelForTokenClassification, AutoTokenizer\n",
    "\n",
    "model_path = \"./fine_tuned_model\"\n",
    "model = AutoModelForTokenClassification.from_pretrained(model_path)\n",
    "tokenizer = AutoTokenizer.from_pretrained(model_path)"
   ]
  },
  {
   "cell_type": "code",
   "execution_count": 7,
   "metadata": {},
   "outputs": [
    {
     "name": "stdout",
     "output_type": "stream",
     "text": [
      "Symptom:  persistent headache Score:  0.81618035\n",
      "Symptom:  high fever Score:  0.7963464\n",
      "Symptom:  coughing Score:  0.47774664\n",
      "Symptom:  appetite Score:  0.4124241\n",
      "Symptom:  weak and Score:  0.71636575\n",
      "Symptom:  fatigued Score:  0.68165886\n",
      "Symptom:  nausea Score:  0.9479802\n",
      "Symptom:  vomiting Score:  0.89536697\n"
     ]
    }
   ],
   "source": [
    "from transformers import pipeline\n",
    "\n",
    "pipe = pipeline(\"ner\", model=model, tokenizer=tokenizer, aggregation_strategy=\"simple\") # pass device=0 if using gpu\n",
    "data = \"\"\"\n",
    "I've been feeling really unwell lately. It started a few days ago with a persistent headache that just won't go away. I've also noticed a high fever, which has been keeping me up at night. My throat feels sore, and I've been coughing a lot. I've lost my appetite, and I feel weak and fatigued all the time. In addition to all of this, I've been experiencing some nausea and occasional vomiting. It's been quite challenging to focus or go about my daily activities with all these symptoms.\n",
    "\"\"\"\n",
    "# data = remove_symptom_notation(data)\n",
    "\n",
    "predicted_text = pipe(data)\n",
    "for i in range(len(predicted_text)):\n",
    "    print('Symptom: ', predicted_text[i]['word'], 'Score: ', predicted_text[i]['score'])"
   ]
  }
 ],
 "metadata": {
  "kernelspec": {
   "display_name": "Python 3",
   "language": "python",
   "name": "python3"
  },
  "language_info": {
   "codemirror_mode": {
    "name": "ipython",
    "version": 3
   },
   "file_extension": ".py",
   "mimetype": "text/x-python",
   "name": "python",
   "nbconvert_exporter": "python",
   "pygments_lexer": "ipython3",
   "version": "3.10.12"
  }
 },
 "nbformat": 4,
 "nbformat_minor": 2
}
