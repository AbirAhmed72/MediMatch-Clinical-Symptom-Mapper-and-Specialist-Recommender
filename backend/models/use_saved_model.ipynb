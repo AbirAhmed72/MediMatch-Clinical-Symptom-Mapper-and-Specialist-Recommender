{
 "cells": [
  {
   "cell_type": "code",
   "execution_count": 1,
   "metadata": {},
   "outputs": [
    {
     "name": "stderr",
     "output_type": "stream",
     "text": [
      "/home/fahad/.local/lib/python3.10/site-packages/tqdm/auto.py:21: TqdmWarning: IProgress not found. Please update jupyter and ipywidgets. See https://ipywidgets.readthedocs.io/en/stable/user_install.html\n",
      "  from .autonotebook import tqdm as notebook_tqdm\n",
      "2023-11-18 09:41:28.762039: I tensorflow/tsl/cuda/cudart_stub.cc:28] Could not find cuda drivers on your machine, GPU will not be used.\n",
      "2023-11-18 09:41:28.904247: I tensorflow/core/platform/cpu_feature_guard.cc:182] This TensorFlow binary is optimized to use available CPU instructions in performance-critical operations.\n",
      "To enable the following instructions: AVX2 FMA, in other operations, rebuild TensorFlow with the appropriate compiler flags.\n",
      "2023-11-18 09:41:29.829776: W tensorflow/compiler/tf2tensorrt/utils/py_utils.cc:38] TF-TRT Warning: Could not find TensorRT\n"
     ]
    },
    {
     "name": "stdout",
     "output_type": "stream",
     "text": [
      "Symptom:  headache Score:  0.5477437\n",
      "Symptom:  high fever Score:  0.7835368\n",
      "Symptom:  coughing Score:  0.64409417\n",
      "Symptom:  weak and Score:  0.8357249\n",
      "Symptom:  fatigued Score:  0.57104933\n",
      "Symptom:  nausea Score:  0.96199244\n",
      "Symptom:  vomiting Score:  0.8117908\n"
     ]
    }
   ],
   "source": [
    "from transformers import AutoModelForTokenClassification, AutoTokenizer\n",
    "\n",
    "model_path = \"./fine_tuned_model\"\n",
    "model = AutoModelForTokenClassification.from_pretrained(model_path)\n",
    "tokenizer = AutoTokenizer.from_pretrained(model_path)\n",
    "\n",
    "from transformers import pipeline\n",
    "\n",
    "pipe = pipeline(\"ner\", model=model, tokenizer=tokenizer, aggregation_strategy=\"simple\") # pass device=0 if using gpu\n",
    "data = \"\"\"\n",
    "I've been feeling really unwell lately. It started a few days ago with a persistent headache that just won't go away. I've also noticed a high fever, which has been keeping me up at night. My throat feels sore, and I've been coughing a lot. I've lost my appetite, and I feel weak and fatigued all the time. In addition to all of this, I've been experiencing some nausea and occasional vomiting. It's been quite challenging to focus or go about my daily activities with all these symptoms.\n",
    "\"\"\"\n",
    "# data = remove_symptom_notation(data)\n",
    "\n",
    "predicted_text = pipe(data)\n",
    "for i in range(len(predicted_text)):\n",
    "    print('Symptom: ', predicted_text[i]['word'], 'Score: ', predicted_text[i]['score'])"
   ]
  }
 ],
 "metadata": {
  "kernelspec": {
   "display_name": "Python 3",
   "language": "python",
   "name": "python3"
  },
  "language_info": {
   "codemirror_mode": {
    "name": "ipython",
    "version": 3
   },
   "file_extension": ".py",
   "mimetype": "text/x-python",
   "name": "python",
   "nbconvert_exporter": "python",
   "pygments_lexer": "ipython3",
   "version": "3.10.12"
  }
 },
 "nbformat": 4,
 "nbformat_minor": 2
}
